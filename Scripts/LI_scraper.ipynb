{
 "cells": [
  {
   "cell_type": "markdown",
   "id": "f6c6a95b",
   "metadata": {},
   "source": [
    "### Buscar trabajos "
   ]
  },
  {
   "cell_type": "code",
   "execution_count": 2,
   "id": "8ab45f15",
   "metadata": {
    "ExecuteTime": {
     "end_time": "2022-03-22T17:12:58.298918Z",
     "start_time": "2022-03-22T17:12:48.453044Z"
    }
   },
   "outputs": [],
   "source": [
    "#Importamos librerías\n",
    "\n",
    "import selenium\n",
    "from selenium import webdriver\n",
    "import time\n",
    "from selenium.webdriver.common.by import By\n",
    "from selenium.webdriver.common.keys import Keys\n",
    "import pandas as pd\n",
    "import numpy as np"
   ]
  },
  {
   "cell_type": "code",
   "execution_count": 3,
   "id": "5cd38599",
   "metadata": {
    "ExecuteTime": {
     "end_time": "2022-03-22T17:13:37.977794Z",
     "start_time": "2022-03-22T17:13:07.849863Z"
    }
   },
   "outputs": [
    {
     "name": "stderr",
     "output_type": "stream",
     "text": [
      "C:\\Users\\gboschin\\AppData\\Local\\Temp\\ipykernel_28496\\534490810.py:4: DeprecationWarning: executable_path has been deprecated, please pass in a Service object\n",
      "  driver = webdriver.Chrome(r\"C:\\\\Users\\\\gboschin\\\\Desktop\\\\API linkedin\\\\chromedriver.exe\")\n"
     ]
    }
   ],
   "source": [
    "## direct the webdriver to where the browser file is:\n",
    "\n",
    "##Chrome\n",
    "driver = webdriver.Chrome(r\"C:\\\\Users\\\\gboschin\\\\Desktop\\\\API linkedin\\\\chromedriver.exe\")\n",
    "driver.maximize_window()\n",
    "\n",
    "# Credenciales secretas:\n",
    "email = \"elincognito1996@gmail.com\"\n",
    "password = \"holamundo123\"\n",
    "\n",
    "# Ir a la página de linkeidIn y loguearse\n",
    "driver.get('https://www.linkedin.com/login') # Método driver.get navegará a una página dada por la URL\n",
    "time.sleep(3) # Método time.sleep para hacer que el navegador se detenga durante tres segundos\n",
    "driver.find_element(By.ID, 'username').send_keys(email) # Método find_element_by_name de Selenium para encontrar las entradas \n",
    "                                                        #para la información de inicio de sesión\n",
    "driver.find_element(By.ID, 'password').send_keys(password)\n",
    "driver.find_element(By.ID, 'password').send_keys(Keys.RETURN)"
   ]
  },
  {
   "cell_type": "code",
   "execution_count": 5,
   "id": "845c3028",
   "metadata": {
    "ExecuteTime": {
     "end_time": "2022-03-22T17:14:12.476877Z",
     "start_time": "2022-03-22T17:14:05.628640Z"
    }
   },
   "outputs": [],
   "source": [
    "#Buscar trabajos de DE en Argetina\n",
    "driver.get(\"https://www.linkedin.com/jobs/\")\n",
    "time.sleep(1)\n",
    "\n",
    "# find the keywords/location search bars:\n",
    "search_bars = driver.find_elements(By.CLASS_NAME,'jobs-search-box__text-input')\n",
    "\n",
    "keywords = 'Data Engineer'\n",
    "search_keywords = search_bars[0]\n",
    "search_keywords.send_keys(keywords)\n",
    "\n",
    "time.sleep(1)\n",
    "\n",
    "location = 'Argentina'    \n",
    "search_location = search_bars[3]\n",
    "search_location.send_keys(location)\n",
    "\n",
    "time.sleep(1)\n",
    "\n",
    "search_location.send_keys(Keys.ENTER)"
   ]
  },
  {
   "cell_type": "code",
   "execution_count": 6,
   "id": "030ffbb5",
   "metadata": {
    "ExecuteTime": {
     "end_time": "2022-03-22T17:15:41.180042Z",
     "start_time": "2022-03-22T17:14:19.261183Z"
    }
   },
   "outputs": [],
   "source": [
    "# get a list of all the listings elements's in the side bar\n",
    "list_item = driver.find_elements(By.CLASS_NAME, \"occludable-update\")\n",
    "\n",
    "position_list = []\n",
    "company_list = []\n",
    "location_list = []\n",
    "applications_list = []\n",
    "posted_list = []\n",
    "details_list = []\n",
    "\n",
    "# scrolls a single page:\n",
    "for job in list_item:\n",
    "    # executes JavaScript to scroll the div into view\n",
    "    driver.execute_script(\"arguments[0].scrollIntoView();\", job)\n",
    "    job.click()\n",
    "    time.sleep(3)\n",
    "    \n",
    "    # get info:\n",
    "    position = job.text.split('\\n')[0]\n",
    "    company = job.text.split('\\n')[1]\n",
    "    location = job.text.split('\\n')[2]\n",
    "    posted_date = driver.find_element(By.CLASS_NAME, \"jobs-unified-top-card__posted-date\").text    \n",
    "    details = driver.find_element(By.ID, \"job-details\").text\n",
    "    #applications = driver.find_element(By.CLASS_NAME, \"jobs-unified-top-card__applicant-count\").text    \n",
    "    \n",
    "    \n",
    "    #Appendeo los details a una lista\n",
    "    position_list.append(position)\n",
    "    company_list.append(company)\n",
    "    location_list.append(location)\n",
    "    #applications_list.append(applications)\n",
    "    posted_list.append(posted_date)\n",
    "    details_list.append(details)"
   ]
  },
  {
   "cell_type": "code",
   "execution_count": 17,
   "id": "a555a76e",
   "metadata": {
    "ExecuteTime": {
     "end_time": "2022-03-17T16:58:30.757514Z",
     "start_time": "2022-03-17T16:58:30.701633Z"
    }
   },
   "outputs": [
    {
     "data": {
      "text/html": [
       "<div>\n",
       "<style scoped>\n",
       "    .dataframe tbody tr th:only-of-type {\n",
       "        vertical-align: middle;\n",
       "    }\n",
       "\n",
       "    .dataframe tbody tr th {\n",
       "        vertical-align: top;\n",
       "    }\n",
       "\n",
       "    .dataframe thead th {\n",
       "        text-align: right;\n",
       "    }\n",
       "</style>\n",
       "<table border=\"1\" class=\"dataframe\">\n",
       "  <thead>\n",
       "    <tr style=\"text-align: right;\">\n",
       "      <th></th>\n",
       "      <th>Posición</th>\n",
       "      <th>Compañía</th>\n",
       "      <th>Ubicación</th>\n",
       "      <th>Posteado</th>\n",
       "      <th>Detalle</th>\n",
       "    </tr>\n",
       "  </thead>\n",
       "  <tbody>\n",
       "    <tr>\n",
       "      <th>0</th>\n",
       "      <td>Senior Data Scientist</td>\n",
       "      <td>Toptal</td>\n",
       "      <td>Buenos Aires, Provincia de Buenos Aires, Argen...</td>\n",
       "      <td>hace 1 día</td>\n",
       "      <td>About Toptal\\n\\nToptal is a global network of ...</td>\n",
       "    </tr>\n",
       "    <tr>\n",
       "      <th>1</th>\n",
       "      <td>P&amp;A - Finance | Data Scientist Sr Analyst</td>\n",
       "      <td>Accenture Argentina</td>\n",
       "      <td>Buenos Aires, Provincia de Buenos Aires, Argen...</td>\n",
       "      <td>hace 2 semanas</td>\n",
       "      <td>Join Accenture and help transform leading orga...</td>\n",
       "    </tr>\n",
       "    <tr>\n",
       "      <th>2</th>\n",
       "      <td>Senior Data Scientist - Argentina Tech Hub</td>\n",
       "      <td>Nu</td>\n",
       "      <td>Buenos Aires, Provincia de Buenos Aires, Argen...</td>\n",
       "      <td>hace 1 semana</td>\n",
       "      <td>About Nubank\\n\\nNubank was founded in 2013 to ...</td>\n",
       "    </tr>\n",
       "    <tr>\n",
       "      <th>3</th>\n",
       "      <td>Data Scientist</td>\n",
       "      <td>Movistar (Telefónica Hispam)</td>\n",
       "      <td>Provincia de Buenos Aires, Argentina</td>\n",
       "      <td>hace 1 hora</td>\n",
       "      <td>Publicado por\\nNora Josovich\\nTalent acquisiti...</td>\n",
       "    </tr>\n",
       "    <tr>\n",
       "      <th>4</th>\n",
       "      <td>Senior data analyst</td>\n",
       "      <td>Recruiter Freelance</td>\n",
       "      <td>Argentina</td>\n",
       "      <td>hace 14 horas</td>\n",
       "      <td>Publicado por\\nJayson Sanguino\\nComunicador so...</td>\n",
       "    </tr>\n",
       "    <tr>\n",
       "      <th>5</th>\n",
       "      <td>Business Intelligence Analyst</td>\n",
       "      <td>Knight Therapeutics Inc.</td>\n",
       "      <td>Buenos Aires y alrededores</td>\n",
       "      <td>hace 5 horas</td>\n",
       "      <td>Publicado por\\nAgustina Adrogue\\nTalent Acquis...</td>\n",
       "    </tr>\n",
       "    <tr>\n",
       "      <th>6</th>\n",
       "      <td>Data Scientist - Applied AI</td>\n",
       "      <td>JPMorgan Chase &amp; Co.</td>\n",
       "      <td>Buenos Aires, Provincia de Buenos Aires, Argen...</td>\n",
       "      <td>hace 5 días</td>\n",
       "      <td>About Our Team\\n\\nThe mission of our Applied A...</td>\n",
       "    </tr>\n",
       "    <tr>\n",
       "      <th>7</th>\n",
       "      <td>Data Scientist</td>\n",
       "      <td>Prodigious Worldwide</td>\n",
       "      <td>Argentina</td>\n",
       "      <td>hace 3 semanas</td>\n",
       "      <td>This role will be focus on finding the best au...</td>\n",
       "    </tr>\n",
       "    <tr>\n",
       "      <th>8</th>\n",
       "      <td>Data Scientist</td>\n",
       "      <td>Housecall Pro</td>\n",
       "      <td>Río Grande, Tierra del Fuego, Argentina</td>\n",
       "      <td>hace 2 semanas</td>\n",
       "      <td>Publicado por\\nShannon Skalka\\nDirector, Talen...</td>\n",
       "    </tr>\n",
       "    <tr>\n",
       "      <th>9</th>\n",
       "      <td>Data Scientist</td>\n",
       "      <td>123Seguro</td>\n",
       "      <td>Argentina</td>\n",
       "      <td>hace 1 semana</td>\n",
       "      <td>Publicado por\\nSofía Caña\\nRecruiter IT en 123...</td>\n",
       "    </tr>\n",
       "    <tr>\n",
       "      <th>10</th>\n",
       "      <td>Data Scientist</td>\n",
       "      <td>ASAPP</td>\n",
       "      <td>Argentina</td>\n",
       "      <td>hace 6 días</td>\n",
       "      <td>At ASAPP, we are on a mission to build transfo...</td>\n",
       "    </tr>\n",
       "    <tr>\n",
       "      <th>11</th>\n",
       "      <td>Analista de datos</td>\n",
       "      <td>Grupo Slots</td>\n",
       "      <td>San Luis, Argentina</td>\n",
       "      <td>hace 6 horas</td>\n",
       "      <td>Como Analista de Datos vas a contribuir al des...</td>\n",
       "    </tr>\n",
       "    <tr>\n",
       "      <th>12</th>\n",
       "      <td>Analista de datos</td>\n",
       "      <td>Confidencial</td>\n",
       "      <td>Argentina</td>\n",
       "      <td>hace 3 horas</td>\n",
       "      <td>Publicado por\\nLic. Karina Frossasco\\nRecruite...</td>\n",
       "    </tr>\n",
       "    <tr>\n",
       "      <th>13</th>\n",
       "      <td>DATA SCIENTIST</td>\n",
       "      <td>Wunderman Thompson</td>\n",
       "      <td>Buenos Aires, Provincia de Buenos Aires, Argen...</td>\n",
       "      <td>hace 2 semanas</td>\n",
       "      <td>Who we are:\\n\\nAt Wunderman Thompson we exist ...</td>\n",
       "    </tr>\n",
       "    <tr>\n",
       "      <th>14</th>\n",
       "      <td>Data Scientist - Analyst</td>\n",
       "      <td>Visa</td>\n",
       "      <td>Buenos Aires, Provincia de Buenos Aires, Argen...</td>\n",
       "      <td>hace 1 semana</td>\n",
       "      <td>Company Description\\n\\nVisa is a world leader ...</td>\n",
       "    </tr>\n",
       "    <tr>\n",
       "      <th>15</th>\n",
       "      <td>Data Scientist</td>\n",
       "      <td>GDN AR</td>\n",
       "      <td>Buenos Aires, Provincia de Buenos Aires, Argen...</td>\n",
       "      <td>hace 4 semanas</td>\n",
       "      <td>Publicado por\\nMaría Laura Coria\\nHRBP- IT, E-...</td>\n",
       "    </tr>\n",
       "    <tr>\n",
       "      <th>16</th>\n",
       "      <td>Data &amp; Applied Scientist</td>\n",
       "      <td>Microsoft</td>\n",
       "      <td>Argentina</td>\n",
       "      <td>hace 2 semanas</td>\n",
       "      <td>Microsoft Graph and the Microsoft 365 ecosyste...</td>\n",
       "    </tr>\n",
       "    <tr>\n",
       "      <th>17</th>\n",
       "      <td>Data Scientist</td>\n",
       "      <td>Kin + Carta</td>\n",
       "      <td>Buenos Aires, Provincia de Buenos Aires, Argen...</td>\n",
       "      <td>hace 6 días</td>\n",
       "      <td>At Kin + Carta, we’ve got opportunities to off...</td>\n",
       "    </tr>\n",
       "    <tr>\n",
       "      <th>18</th>\n",
       "      <td>Data Engineer</td>\n",
       "      <td>OptimHire</td>\n",
       "      <td>Argentina</td>\n",
       "      <td>hace 9 horas</td>\n",
       "      <td>Publicado por\\nMoon M.\\nTech-Labor-Hunter Labo...</td>\n",
       "    </tr>\n",
       "    <tr>\n",
       "      <th>19</th>\n",
       "      <td>Analista de Data Science - Mercado Crédito</td>\n",
       "      <td>Mercado Libre</td>\n",
       "      <td>Buenos Aires y alrededores</td>\n",
       "      <td>hace 17 minutos</td>\n",
       "      <td>En Mercado Libre estamos democratizando el com...</td>\n",
       "    </tr>\n",
       "    <tr>\n",
       "      <th>20</th>\n",
       "      <td>Data Scientist</td>\n",
       "      <td>Prodigious Latin America</td>\n",
       "      <td>Argentina</td>\n",
       "      <td>hace 3 semanas</td>\n",
       "      <td>Publicado por\\nANDRES SALCEDO BORRERO\\nIT Recr...</td>\n",
       "    </tr>\n",
       "    <tr>\n",
       "      <th>21</th>\n",
       "      <td>Programador de PLC</td>\n",
       "      <td>TREND Ingeniería SRL</td>\n",
       "      <td>Buenos Aires, Provincia de Buenos Aires, Argen...</td>\n",
       "      <td>hace 2 horas</td>\n",
       "      <td>Publicado por\\nClaudia Vindigni\\nRecursos Huma...</td>\n",
       "    </tr>\n",
       "    <tr>\n",
       "      <th>22</th>\n",
       "      <td>Football Statistician</td>\n",
       "      <td>Genius Sports</td>\n",
       "      <td>Viedma, Río Negro, Argentina</td>\n",
       "      <td>hace 1 día</td>\n",
       "      <td>Love sports?\\n\\nWant to get paid while attendi...</td>\n",
       "    </tr>\n",
       "    <tr>\n",
       "      <th>23</th>\n",
       "      <td>Data Engineer</td>\n",
       "      <td>OptimHire</td>\n",
       "      <td>Argentina</td>\n",
       "      <td>hace 1 día</td>\n",
       "      <td>Publicado por\\nPayal Gupta\\nTechnical Recruite...</td>\n",
       "    </tr>\n",
       "    <tr>\n",
       "      <th>24</th>\n",
       "      <td>Programadores SCADA</td>\n",
       "      <td>TREND Ingeniería SRL</td>\n",
       "      <td>Buenos Aires, Provincia de Buenos Aires, Argen...</td>\n",
       "      <td>hace 2 horas</td>\n",
       "      <td>Publicado por\\nClaudia Vindigni\\nRecursos Huma...</td>\n",
       "    </tr>\n",
       "  </tbody>\n",
       "</table>\n",
       "</div>"
      ],
      "text/plain": [
       "                                      Posición                      Compañía  \\\n",
       "0                        Senior Data Scientist                        Toptal   \n",
       "1    P&A - Finance | Data Scientist Sr Analyst           Accenture Argentina   \n",
       "2   Senior Data Scientist - Argentina Tech Hub                            Nu   \n",
       "3                               Data Scientist  Movistar (Telefónica Hispam)   \n",
       "4                          Senior data analyst           Recruiter Freelance   \n",
       "5                Business Intelligence Analyst      Knight Therapeutics Inc.   \n",
       "6                  Data Scientist - Applied AI          JPMorgan Chase & Co.   \n",
       "7                               Data Scientist          Prodigious Worldwide   \n",
       "8                               Data Scientist                 Housecall Pro   \n",
       "9                               Data Scientist                     123Seguro   \n",
       "10                              Data Scientist                         ASAPP   \n",
       "11                           Analista de datos                   Grupo Slots   \n",
       "12                           Analista de datos                  Confidencial   \n",
       "13                              DATA SCIENTIST            Wunderman Thompson   \n",
       "14                    Data Scientist - Analyst                          Visa   \n",
       "15                              Data Scientist                        GDN AR   \n",
       "16                    Data & Applied Scientist                     Microsoft   \n",
       "17                              Data Scientist                   Kin + Carta   \n",
       "18                               Data Engineer                     OptimHire   \n",
       "19  Analista de Data Science - Mercado Crédito                 Mercado Libre   \n",
       "20                              Data Scientist      Prodigious Latin America   \n",
       "21                          Programador de PLC          TREND Ingeniería SRL   \n",
       "22                       Football Statistician                 Genius Sports   \n",
       "23                               Data Engineer                     OptimHire   \n",
       "24                         Programadores SCADA          TREND Ingeniería SRL   \n",
       "\n",
       "                                            Ubicación         Posteado  \\\n",
       "0   Buenos Aires, Provincia de Buenos Aires, Argen...       hace 1 día   \n",
       "1   Buenos Aires, Provincia de Buenos Aires, Argen...   hace 2 semanas   \n",
       "2   Buenos Aires, Provincia de Buenos Aires, Argen...    hace 1 semana   \n",
       "3                Provincia de Buenos Aires, Argentina      hace 1 hora   \n",
       "4                                           Argentina    hace 14 horas   \n",
       "5                          Buenos Aires y alrededores     hace 5 horas   \n",
       "6   Buenos Aires, Provincia de Buenos Aires, Argen...      hace 5 días   \n",
       "7                                           Argentina   hace 3 semanas   \n",
       "8             Río Grande, Tierra del Fuego, Argentina   hace 2 semanas   \n",
       "9                                           Argentina    hace 1 semana   \n",
       "10                                          Argentina      hace 6 días   \n",
       "11                                San Luis, Argentina     hace 6 horas   \n",
       "12                                          Argentina     hace 3 horas   \n",
       "13  Buenos Aires, Provincia de Buenos Aires, Argen...   hace 2 semanas   \n",
       "14  Buenos Aires, Provincia de Buenos Aires, Argen...    hace 1 semana   \n",
       "15  Buenos Aires, Provincia de Buenos Aires, Argen...   hace 4 semanas   \n",
       "16                                          Argentina   hace 2 semanas   \n",
       "17  Buenos Aires, Provincia de Buenos Aires, Argen...      hace 6 días   \n",
       "18                                          Argentina     hace 9 horas   \n",
       "19                         Buenos Aires y alrededores  hace 17 minutos   \n",
       "20                                          Argentina   hace 3 semanas   \n",
       "21  Buenos Aires, Provincia de Buenos Aires, Argen...     hace 2 horas   \n",
       "22                       Viedma, Río Negro, Argentina       hace 1 día   \n",
       "23                                          Argentina       hace 1 día   \n",
       "24  Buenos Aires, Provincia de Buenos Aires, Argen...     hace 2 horas   \n",
       "\n",
       "                                              Detalle  \n",
       "0   About Toptal\\n\\nToptal is a global network of ...  \n",
       "1   Join Accenture and help transform leading orga...  \n",
       "2   About Nubank\\n\\nNubank was founded in 2013 to ...  \n",
       "3   Publicado por\\nNora Josovich\\nTalent acquisiti...  \n",
       "4   Publicado por\\nJayson Sanguino\\nComunicador so...  \n",
       "5   Publicado por\\nAgustina Adrogue\\nTalent Acquis...  \n",
       "6   About Our Team\\n\\nThe mission of our Applied A...  \n",
       "7   This role will be focus on finding the best au...  \n",
       "8   Publicado por\\nShannon Skalka\\nDirector, Talen...  \n",
       "9   Publicado por\\nSofía Caña\\nRecruiter IT en 123...  \n",
       "10  At ASAPP, we are on a mission to build transfo...  \n",
       "11  Como Analista de Datos vas a contribuir al des...  \n",
       "12  Publicado por\\nLic. Karina Frossasco\\nRecruite...  \n",
       "13  Who we are:\\n\\nAt Wunderman Thompson we exist ...  \n",
       "14  Company Description\\n\\nVisa is a world leader ...  \n",
       "15  Publicado por\\nMaría Laura Coria\\nHRBP- IT, E-...  \n",
       "16  Microsoft Graph and the Microsoft 365 ecosyste...  \n",
       "17  At Kin + Carta, we’ve got opportunities to off...  \n",
       "18  Publicado por\\nMoon M.\\nTech-Labor-Hunter Labo...  \n",
       "19  En Mercado Libre estamos democratizando el com...  \n",
       "20  Publicado por\\nANDRES SALCEDO BORRERO\\nIT Recr...  \n",
       "21  Publicado por\\nClaudia Vindigni\\nRecursos Huma...  \n",
       "22  Love sports?\\n\\nWant to get paid while attendi...  \n",
       "23  Publicado por\\nPayal Gupta\\nTechnical Recruite...  \n",
       "24  Publicado por\\nClaudia Vindigni\\nRecursos Huma...  "
      ]
     },
     "execution_count": 17,
     "metadata": {},
     "output_type": "execute_result"
    }
   ],
   "source": [
    "data = pd.DataFrame()\n",
    "data['Posición'],data['Compañía'],data['Ubicación'], data['Posteado'], data['Detalle'] = [position_list, company_list, location_list, posted_list, details_list]\n",
    "data"
   ]
  },
  {
   "cell_type": "markdown",
   "id": "98b01e05",
   "metadata": {},
   "source": [
    "### Buscar perfiles"
   ]
  },
  {
   "cell_type": "code",
   "execution_count": 1,
   "id": "fb9c897d",
   "metadata": {
    "ExecuteTime": {
     "end_time": "2022-03-10T22:46:58.601549Z",
     "start_time": "2022-03-10T22:46:39.456684Z"
    }
   },
   "outputs": [],
   "source": [
    "#Importamos librerías\n",
    "\n",
    "import selenium\n",
    "from selenium import webdriver\n",
    "import time\n",
    "from selenium.webdriver.common.by import By\n",
    "from selenium.webdriver.common.keys import Keys\n",
    "import pandas as pd"
   ]
  },
  {
   "cell_type": "code",
   "execution_count": 13,
   "id": "789b453c",
   "metadata": {
    "ExecuteTime": {
     "end_time": "2022-03-10T22:52:11.129067Z",
     "start_time": "2022-03-10T22:51:41.244110Z"
    }
   },
   "outputs": [
    {
     "name": "stderr",
     "output_type": "stream",
     "text": [
      "C:\\Users\\gboschin\\AppData\\Local\\Temp\\ipykernel_24044\\1715925227.py:4: DeprecationWarning: executable_path has been deprecated, please pass in a Service object\n",
      "  driver = webdriver.Chrome(r'C:\\\\Users\\\\gboschin\\\\Desktop\\\\API linkedin\\\\chromedriver.exe')\n"
     ]
    }
   ],
   "source": [
    "## direct the webdriver to where the browser file is:\n",
    "\n",
    "##Chrome\n",
    "driver = webdriver.Chrome(r'C:\\\\Users\\\\gboschin\\\\Desktop\\\\API linkedin\\\\chromedriver.exe')\n",
    "\n",
    "# Credenciales secretas:\n",
    "email = \"elincognito1996@gmail.com\"\n",
    "password = \"holamundo123\"\n",
    "\n",
    "# Ir a la página de linkeidIn y loguearse\n",
    "driver.get('https://www.linkedin.com/login') # Método driver.get navegará a una página dada por la URL\n",
    "time.sleep(3) # Método time.sleep para hacer que el navegador se detenga durante tres segundos\n",
    "driver.find_element(By.ID, 'username').send_keys(email) # Método find_element_by_name de Selenium para encontrar las entradas \n",
    "                                                        #para la información de inicio de sesión\n",
    "driver.find_element(By.ID, 'password').send_keys(password)\n",
    "driver.find_element(By.ID, 'password').send_keys(Keys.RETURN)"
   ]
  },
  {
   "cell_type": "code",
   "execution_count": 14,
   "id": "2bd38d3c",
   "metadata": {
    "ExecuteTime": {
     "end_time": "2022-03-17T16:59:07.771396Z",
     "start_time": "2022-03-17T16:58:59.746426Z"
    }
   },
   "outputs": [
    {
     "name": "stderr",
     "output_type": "stream",
     "text": [
      "C:\\Users\\gboschin\\AppData\\Local\\Temp\\ipykernel_24044\\3568174319.py:10: DeprecationWarning: find_element_by_xpath is deprecated. Please use find_element(by=By.XPATH, value=xpath) instead\n",
      "  search = driver.find_element_by_xpath(\"//input[@aria-label='Buscar']\")\n"
     ]
    }
   ],
   "source": [
    "from selenium.webdriver.support.ui import WebDriverWait\n",
    "from selenium.webdriver.common.by import By\n",
    "from selenium.webdriver.support import expected_conditions as EC\n",
    "\n",
    "\n",
    "#Buscar perfiles que hagan ingenieria de datos \n",
    "driver.get(\"https://www.linkedin.com/\")\n",
    "time.sleep(1)\n",
    "\n",
    "search = driver.find_element_by_xpath(\"//input[@aria-label='Buscar']\")\n",
    "\n",
    "keywords = 'Ingeniero de datos' \n",
    "search.send_keys(keywords)\n",
    "search.send_keys(Keys.ENTER)\n",
    "\n",
    "time.sleep(1)\n",
    "\n",
    "\n",
    "people_button = WebDriverWait(driver, 20).until(EC.visibility_of_element_located((By.CSS_SELECTOR, \"[aria-label='Personas']\")))\n",
    "people_button.send_keys(Keys.ENTER)\n"
   ]
  },
  {
   "cell_type": "code",
   "execution_count": 15,
   "id": "c4ed7e26",
   "metadata": {},
   "outputs": [],
   "source": [
    "# get a list of all the listings elements's in the side bar\n",
    "list_item = driver.find_elements(By.CLASS_NAME, \"occludable-update\")\n",
    "\n",
    "position_list = []\n",
    "company_list = []\n",
    "location_list = []\n",
    "applications_list = []\n",
    "posted_list = []\n",
    "details_list = []\n",
    "\n",
    "# scrolls a single page:\n",
    "for job in list_item:\n",
    "    # executes JavaScript to scroll the div into view\n",
    "    driver.execute_script(\"arguments[0].scrollIntoView();\", job)\n",
    "    job.click()\n",
    "    time.sleep(3)\n",
    "    \n",
    "    # get info:\n",
    "    position = job.text.split('\\n')[0]\n",
    "    company = job.text.split('\\n')[1]\n",
    "    location = job.text.split('\\n')[2]\n",
    "    posted_date = driver.find_element(By.CLASS_NAME, \"jobs-unified-top-card__posted-date\").text    \n",
    "    details = driver.find_element(By.ID, \"job-details\").text\n",
    "    #applications = driver.find_element(By.CLASS_NAME, \"jobs-unified-top-card__applicant-count\").text    \n",
    "    \n",
    "    \n",
    "    #Appendeo los details a una lista\n",
    "    position_list.append(position)\n",
    "    company_list.append(company)\n",
    "    location_list.append(location)\n",
    "    #applications_list.append(applications)\n",
    "    posted_list.append(posted_date)\n",
    "    details_list.append(details)"
   ]
  },
  {
   "cell_type": "code",
   "execution_count": 6,
   "id": "51939ba5",
   "metadata": {},
   "outputs": [
    {
     "name": "stderr",
     "output_type": "stream",
     "text": [
      "C:\\Users\\gboschin\\AppData\\Local\\Temp\\ipykernel_11504\\315160843.py:1: DeprecationWarning: find_elements_by_tag_name is deprecated. Please use find_elements(by=By.TAG_NAME, value=name) instead\n",
      "  for btn in driver.find_elements_by_tag_name('button'):\n"
     ]
    }
   ],
   "source": [
    "#Buscar personas que trabajen de Ingeniero de datos en Argetina\n",
    "\n",
    "location = 'Argentina'    \n",
    "search_location = search_bars[3]\n",
    "search_location.send_keys(location)\n",
    "\n",
    "time.sleep(1)\n",
    "\n",
    "search_location.send_keys(Keys.ENTER)"
   ]
  },
  {
   "cell_type": "code",
   "execution_count": 7,
   "id": "d126f354",
   "metadata": {},
   "outputs": [
    {
     "data": {
      "text/plain": [
       "'\\nsolicitudes_enviadas = 0\\n\\nwhile solicitudes_enviadas < 11:\\n\\n    people_button = WebDriverWait(driver, 20).until(EC.visibility_of_element_located((By.CSS_SELECTOR, \"[aria-label=\\'Conectar\\']\")))\\n    people_button.send_keys(Keys.ENTER)\\n\\n    # locate submit button by_class_name\\n    conectar_button = driver.find_element_by_class_name(\\'conectar-submit\\')\\n    \\n\\n    solicitudes_enviadas += 1\\n'"
      ]
     },
     "execution_count": 7,
     "metadata": {},
     "output_type": "execute_result"
    }
   ],
   "source": [
    "# vamos a crear el bucle que envia 10 solicitudes a los usuarios en pantalla\n",
    "\n",
    "\"\"\"\n",
    "solicitudes_enviadas = 0\n",
    "\n",
    "while solicitudes_enviadas < 11:\n",
    "    #solamente estamos mandando al primero que aparece en la lista\n",
    "    people_button = WebDriverWait(driver, 20).until(EC.visibility_of_element_located((By.CSS_SELECTOR, \"[aria-label='Invita a Federico Agustin Merlo Gonzalez a conectar']\")))\n",
    "    people_button.send_keys(Keys.ENTER)\n",
    "\n",
    "    people_button = WebDriverWait(driver, 20).until(EC.visibility_of_element_located((By.CSS_SELECTOR, \"[aria-label='Enviar ahora']\")))\n",
    "    people_button.send_keys(Keys.ENTER)\n",
    "    \n",
    "    solicitudes_enviadas += 1\n",
    "\n",
    "\"\"\""
   ]
  },
  {
   "cell_type": "code",
   "execution_count": 20,
   "id": "bd34a4b5",
   "metadata": {
    "ExecuteTime": {
     "end_time": "2022-03-17T16:59:16.516518Z",
     "start_time": "2022-03-17T16:59:12.354016Z"
    }
   },
   "outputs": [
    {
     "ename": "ElementClickInterceptedException",
     "evalue": "Message: element click intercepted: Element <li class=\"reusable-search__result-container \">...</li> is not clickable at point (501, 73). Other element would receive the click: <button class=\"artdeco-pill artdeco-pill--slate artdeco-pill--choice artdeco-pill--2 search-reusables__filter-pill-button\n     reusable-search-filter-trigger-and-dropdown__trigger\" aria-controls=\"artdeco-hoverable-artdeco-gen-59\" aria-expanded=\"false\" aria-label=\"Filtro «Empresa actual ». Al hacer clic en este botón, se muestran todas las opciones del filtro «Empresa actual ».\" type=\"button\">...</button>\n  (Session info: chrome=100.0.4896.75)\nStacktrace:\nBacktrace:\n\tOrdinal0 [0x006C7413+2389011]\n\tOrdinal0 [0x00659F61+1941345]\n\tOrdinal0 [0x0054C658+837208]\n\tOrdinal0 [0x0057F8AF+1046703]\n\tOrdinal0 [0x0057D8D6+1038550]\n\tOrdinal0 [0x0057B5EB+1029611]\n\tOrdinal0 [0x0057A359+1024857]\n\tOrdinal0 [0x0056FF93+982931]\n\tOrdinal0 [0x0059414C+1130828]\n\tOrdinal0 [0x0056F974+981364]\n\tOrdinal0 [0x00594364+1131364]\n\tOrdinal0 [0x005A4302+1196802]\n\tOrdinal0 [0x00593F66+1130342]\n\tOrdinal0 [0x0056E546+976198]\n\tOrdinal0 [0x0056F456+980054]\n\tGetHandleVerifier [0x00879632+1727522]\n\tGetHandleVerifier [0x0092BA4D+2457661]\n\tGetHandleVerifier [0x0075EB81+569713]\n\tGetHandleVerifier [0x0075DD76+566118]\n\tOrdinal0 [0x00660B2B+1968939]\n\tOrdinal0 [0x00665988+1989000]\n\tOrdinal0 [0x00665A75+1989237]\n\tOrdinal0 [0x0066ECB1+2026673]\n\tBaseThreadInitThunk [0x75296359+25]\n\tRtlGetAppContainerNamedObjectPath [0x773187A4+228]\n\tRtlGetAppContainerNamedObjectPath [0x77318774+180]\n",
     "output_type": "error",
     "traceback": [
      "\u001b[1;31m---------------------------------------------------------------------------\u001b[0m",
      "\u001b[1;31mElementClickInterceptedException\u001b[0m          Traceback (most recent call last)",
      "\u001b[1;32mc:\\Users\\gboschin\\Desktop\\API linkedin\\LI_scraper.ipynb Cell 11'\u001b[0m in \u001b[0;36m<module>\u001b[1;34m\u001b[0m\n\u001b[0;32m     <a href='vscode-notebook-cell:/c%3A/Users/gboschin/Desktop/API%20linkedin/LI_scraper.ipynb#ch0000010?line=11'>12</a>\u001b[0m     driver\u001b[39m.\u001b[39mexecute_script(\u001b[39m\"\u001b[39m\u001b[39marguments[0].scrollIntoView();\u001b[39m\u001b[39m\"\u001b[39m, people)\n\u001b[0;32m     <a href='vscode-notebook-cell:/c%3A/Users/gboschin/Desktop/API%20linkedin/LI_scraper.ipynb#ch0000010?line=12'>13</a>\u001b[0m     time\u001b[39m.\u001b[39msleep(\u001b[39m1\u001b[39m)   \n\u001b[1;32m---> <a href='vscode-notebook-cell:/c%3A/Users/gboschin/Desktop/API%20linkedin/LI_scraper.ipynb#ch0000010?line=13'>14</a>\u001b[0m     people\u001b[39m.\u001b[39;49mclick()\n\u001b[0;32m     <a href='vscode-notebook-cell:/c%3A/Users/gboschin/Desktop/API%20linkedin/LI_scraper.ipynb#ch0000010?line=14'>15</a>\u001b[0m     time\u001b[39m.\u001b[39msleep(\u001b[39m3\u001b[39m)\n\u001b[0;32m     <a href='vscode-notebook-cell:/c%3A/Users/gboschin/Desktop/API%20linkedin/LI_scraper.ipynb#ch0000010?line=16'>17</a>\u001b[0m \u001b[39m#    # get info:\u001b[39;00m\n",
      "File \u001b[1;32m~\\AppData\\Local\\Packages\\PythonSoftwareFoundation.Python.3.9_qbz5n2kfra8p0\\LocalCache\\local-packages\\Python39\\site-packages\\selenium\\webdriver\\remote\\webelement.py:81\u001b[0m, in \u001b[0;36mWebElement.click\u001b[1;34m(self)\u001b[0m\n\u001b[0;32m     <a href='file:///c%3A/Users/gboschin/AppData/Local/Packages/PythonSoftwareFoundation.Python.3.9_qbz5n2kfra8p0/LocalCache/local-packages/Python39/site-packages/selenium/webdriver/remote/webelement.py?line=78'>79</a>\u001b[0m \u001b[39mdef\u001b[39;00m \u001b[39mclick\u001b[39m(\u001b[39mself\u001b[39m) \u001b[39m-\u001b[39m\u001b[39m>\u001b[39m \u001b[39mNone\u001b[39;00m:\n\u001b[0;32m     <a href='file:///c%3A/Users/gboschin/AppData/Local/Packages/PythonSoftwareFoundation.Python.3.9_qbz5n2kfra8p0/LocalCache/local-packages/Python39/site-packages/selenium/webdriver/remote/webelement.py?line=79'>80</a>\u001b[0m     \u001b[39m\"\"\"Clicks the element.\"\"\"\u001b[39;00m\n\u001b[1;32m---> <a href='file:///c%3A/Users/gboschin/AppData/Local/Packages/PythonSoftwareFoundation.Python.3.9_qbz5n2kfra8p0/LocalCache/local-packages/Python39/site-packages/selenium/webdriver/remote/webelement.py?line=80'>81</a>\u001b[0m     \u001b[39mself\u001b[39;49m\u001b[39m.\u001b[39;49m_execute(Command\u001b[39m.\u001b[39;49mCLICK_ELEMENT)\n",
      "File \u001b[1;32m~\\AppData\\Local\\Packages\\PythonSoftwareFoundation.Python.3.9_qbz5n2kfra8p0\\LocalCache\\local-packages\\Python39\\site-packages\\selenium\\webdriver\\remote\\webelement.py:710\u001b[0m, in \u001b[0;36mWebElement._execute\u001b[1;34m(self, command, params)\u001b[0m\n\u001b[0;32m    <a href='file:///c%3A/Users/gboschin/AppData/Local/Packages/PythonSoftwareFoundation.Python.3.9_qbz5n2kfra8p0/LocalCache/local-packages/Python39/site-packages/selenium/webdriver/remote/webelement.py?line=707'>708</a>\u001b[0m     params \u001b[39m=\u001b[39m {}\n\u001b[0;32m    <a href='file:///c%3A/Users/gboschin/AppData/Local/Packages/PythonSoftwareFoundation.Python.3.9_qbz5n2kfra8p0/LocalCache/local-packages/Python39/site-packages/selenium/webdriver/remote/webelement.py?line=708'>709</a>\u001b[0m params[\u001b[39m'\u001b[39m\u001b[39mid\u001b[39m\u001b[39m'\u001b[39m] \u001b[39m=\u001b[39m \u001b[39mself\u001b[39m\u001b[39m.\u001b[39m_id\n\u001b[1;32m--> <a href='file:///c%3A/Users/gboschin/AppData/Local/Packages/PythonSoftwareFoundation.Python.3.9_qbz5n2kfra8p0/LocalCache/local-packages/Python39/site-packages/selenium/webdriver/remote/webelement.py?line=709'>710</a>\u001b[0m \u001b[39mreturn\u001b[39;00m \u001b[39mself\u001b[39;49m\u001b[39m.\u001b[39;49m_parent\u001b[39m.\u001b[39;49mexecute(command, params)\n",
      "File \u001b[1;32m~\\AppData\\Local\\Packages\\PythonSoftwareFoundation.Python.3.9_qbz5n2kfra8p0\\LocalCache\\local-packages\\Python39\\site-packages\\selenium\\webdriver\\remote\\webdriver.py:425\u001b[0m, in \u001b[0;36mWebDriver.execute\u001b[1;34m(self, driver_command, params)\u001b[0m\n\u001b[0;32m    <a href='file:///c%3A/Users/gboschin/AppData/Local/Packages/PythonSoftwareFoundation.Python.3.9_qbz5n2kfra8p0/LocalCache/local-packages/Python39/site-packages/selenium/webdriver/remote/webdriver.py?line=422'>423</a>\u001b[0m response \u001b[39m=\u001b[39m \u001b[39mself\u001b[39m\u001b[39m.\u001b[39mcommand_executor\u001b[39m.\u001b[39mexecute(driver_command, params)\n\u001b[0;32m    <a href='file:///c%3A/Users/gboschin/AppData/Local/Packages/PythonSoftwareFoundation.Python.3.9_qbz5n2kfra8p0/LocalCache/local-packages/Python39/site-packages/selenium/webdriver/remote/webdriver.py?line=423'>424</a>\u001b[0m \u001b[39mif\u001b[39;00m response:\n\u001b[1;32m--> <a href='file:///c%3A/Users/gboschin/AppData/Local/Packages/PythonSoftwareFoundation.Python.3.9_qbz5n2kfra8p0/LocalCache/local-packages/Python39/site-packages/selenium/webdriver/remote/webdriver.py?line=424'>425</a>\u001b[0m     \u001b[39mself\u001b[39;49m\u001b[39m.\u001b[39;49merror_handler\u001b[39m.\u001b[39;49mcheck_response(response)\n\u001b[0;32m    <a href='file:///c%3A/Users/gboschin/AppData/Local/Packages/PythonSoftwareFoundation.Python.3.9_qbz5n2kfra8p0/LocalCache/local-packages/Python39/site-packages/selenium/webdriver/remote/webdriver.py?line=425'>426</a>\u001b[0m     response[\u001b[39m'\u001b[39m\u001b[39mvalue\u001b[39m\u001b[39m'\u001b[39m] \u001b[39m=\u001b[39m \u001b[39mself\u001b[39m\u001b[39m.\u001b[39m_unwrap_value(\n\u001b[0;32m    <a href='file:///c%3A/Users/gboschin/AppData/Local/Packages/PythonSoftwareFoundation.Python.3.9_qbz5n2kfra8p0/LocalCache/local-packages/Python39/site-packages/selenium/webdriver/remote/webdriver.py?line=426'>427</a>\u001b[0m         response\u001b[39m.\u001b[39mget(\u001b[39m'\u001b[39m\u001b[39mvalue\u001b[39m\u001b[39m'\u001b[39m, \u001b[39mNone\u001b[39;00m))\n\u001b[0;32m    <a href='file:///c%3A/Users/gboschin/AppData/Local/Packages/PythonSoftwareFoundation.Python.3.9_qbz5n2kfra8p0/LocalCache/local-packages/Python39/site-packages/selenium/webdriver/remote/webdriver.py?line=427'>428</a>\u001b[0m     \u001b[39mreturn\u001b[39;00m response\n",
      "File \u001b[1;32m~\\AppData\\Local\\Packages\\PythonSoftwareFoundation.Python.3.9_qbz5n2kfra8p0\\LocalCache\\local-packages\\Python39\\site-packages\\selenium\\webdriver\\remote\\errorhandler.py:247\u001b[0m, in \u001b[0;36mErrorHandler.check_response\u001b[1;34m(self, response)\u001b[0m\n\u001b[0;32m    <a href='file:///c%3A/Users/gboschin/AppData/Local/Packages/PythonSoftwareFoundation.Python.3.9_qbz5n2kfra8p0/LocalCache/local-packages/Python39/site-packages/selenium/webdriver/remote/errorhandler.py?line=244'>245</a>\u001b[0m         alert_text \u001b[39m=\u001b[39m value[\u001b[39m'\u001b[39m\u001b[39malert\u001b[39m\u001b[39m'\u001b[39m]\u001b[39m.\u001b[39mget(\u001b[39m'\u001b[39m\u001b[39mtext\u001b[39m\u001b[39m'\u001b[39m)\n\u001b[0;32m    <a href='file:///c%3A/Users/gboschin/AppData/Local/Packages/PythonSoftwareFoundation.Python.3.9_qbz5n2kfra8p0/LocalCache/local-packages/Python39/site-packages/selenium/webdriver/remote/errorhandler.py?line=245'>246</a>\u001b[0m     \u001b[39mraise\u001b[39;00m exception_class(message, screen, stacktrace, alert_text)  \u001b[39m# type: ignore[call-arg]  # mypy is not smart enough here\u001b[39;00m\n\u001b[1;32m--> <a href='file:///c%3A/Users/gboschin/AppData/Local/Packages/PythonSoftwareFoundation.Python.3.9_qbz5n2kfra8p0/LocalCache/local-packages/Python39/site-packages/selenium/webdriver/remote/errorhandler.py?line=246'>247</a>\u001b[0m \u001b[39mraise\u001b[39;00m exception_class(message, screen, stacktrace)\n",
      "\u001b[1;31mElementClickInterceptedException\u001b[0m: Message: element click intercepted: Element <li class=\"reusable-search__result-container \">...</li> is not clickable at point (501, 73). Other element would receive the click: <button class=\"artdeco-pill artdeco-pill--slate artdeco-pill--choice artdeco-pill--2 search-reusables__filter-pill-button\n     reusable-search-filter-trigger-and-dropdown__trigger\" aria-controls=\"artdeco-hoverable-artdeco-gen-59\" aria-expanded=\"false\" aria-label=\"Filtro «Empresa actual ». Al hacer clic en este botón, se muestran todas las opciones del filtro «Empresa actual ».\" type=\"button\">...</button>\n  (Session info: chrome=100.0.4896.75)\nStacktrace:\nBacktrace:\n\tOrdinal0 [0x006C7413+2389011]\n\tOrdinal0 [0x00659F61+1941345]\n\tOrdinal0 [0x0054C658+837208]\n\tOrdinal0 [0x0057F8AF+1046703]\n\tOrdinal0 [0x0057D8D6+1038550]\n\tOrdinal0 [0x0057B5EB+1029611]\n\tOrdinal0 [0x0057A359+1024857]\n\tOrdinal0 [0x0056FF93+982931]\n\tOrdinal0 [0x0059414C+1130828]\n\tOrdinal0 [0x0056F974+981364]\n\tOrdinal0 [0x00594364+1131364]\n\tOrdinal0 [0x005A4302+1196802]\n\tOrdinal0 [0x00593F66+1130342]\n\tOrdinal0 [0x0056E546+976198]\n\tOrdinal0 [0x0056F456+980054]\n\tGetHandleVerifier [0x00879632+1727522]\n\tGetHandleVerifier [0x0092BA4D+2457661]\n\tGetHandleVerifier [0x0075EB81+569713]\n\tGetHandleVerifier [0x0075DD76+566118]\n\tOrdinal0 [0x00660B2B+1968939]\n\tOrdinal0 [0x00665988+1989000]\n\tOrdinal0 [0x00665A75+1989237]\n\tOrdinal0 [0x0066ECB1+2026673]\n\tBaseThreadInitThunk [0x75296359+25]\n\tRtlGetAppContainerNamedObjectPath [0x773187A4+228]\n\tRtlGetAppContainerNamedObjectPath [0x77318774+180]\n"
     ]
    }
   ],
   "source": [
    "# get a list of all the listings elements's in the side bar\n",
    "list_item = driver.find_elements(By.CLASS_NAME, \"reusable-search__result-container \")\n",
    "\n",
    "name_list = []\n",
    "cargo_list = []\n",
    "about_list = []\n",
    "experiencia_list = []\n",
    "\n",
    "# scrolls a single page:\n",
    "for people in list_item:\n",
    "    # executes JavaScript to scroll the div into view\n",
    "    driver.execute_script(\"arguments[0].scrollIntoView();\", people)\n",
    "    time.sleep(1)   \n",
    "    people.click()\n",
    "    time.sleep(3)\n",
    "    \n",
    "#    # get info:\n",
    "    name = driver.find_element(By.CSS_SELECTOR, \".pv-text-details__left-panel h1\").text\n",
    "    about = driver.find_element(By.CSS_SELECTOR, \".pv-shared-text-with-see-more .visually-hidden\").text\n",
    "    cargo = driver.find_element(By.XPATH, \"//div[@class='text-body-medium break-words']\").text\n",
    "   \n",
    "    \n",
    "##    #Appendeo los details a una lista\n",
    "\n",
    "    name_list.append(name)\n",
    "    cargo_list.append(cargo)\n",
    "    about_list.append(about)"
   ]
  },
  {
   "cell_type": "code",
   "execution_count": 7,
   "id": "da8b6a6b",
   "metadata": {
    "ExecuteTime": {
     "end_time": "2022-03-17T16:59:18.111104Z",
     "start_time": "2022-03-17T16:59:18.090162Z"
    }
   },
   "outputs": [
    {
     "data": {
      "text/html": [
       "<div>\n",
       "<style scoped>\n",
       "    .dataframe tbody tr th:only-of-type {\n",
       "        vertical-align: middle;\n",
       "    }\n",
       "\n",
       "    .dataframe tbody tr th {\n",
       "        vertical-align: top;\n",
       "    }\n",
       "\n",
       "    .dataframe thead th {\n",
       "        text-align: right;\n",
       "    }\n",
       "</style>\n",
       "<table border=\"1\" class=\"dataframe\">\n",
       "  <thead>\n",
       "    <tr style=\"text-align: right;\">\n",
       "      <th></th>\n",
       "      <th>Name</th>\n",
       "      <th>Cargo</th>\n",
       "      <th>About</th>\n",
       "    </tr>\n",
       "  </thead>\n",
       "  <tbody>\n",
       "    <tr>\n",
       "      <th>0</th>\n",
       "      <td>Julieta Carricondo Robino</td>\n",
       "      <td>Data Scientist Lead Analyst en NTT Data Europe...</td>\n",
       "      <td>Soy Julieta Carricondo Robino, bioingeniera. A...</td>\n",
       "    </tr>\n",
       "  </tbody>\n",
       "</table>\n",
       "</div>"
      ],
      "text/plain": [
       "                        Name  \\\n",
       "0  Julieta Carricondo Robino   \n",
       "\n",
       "                                               Cargo  \\\n",
       "0  Data Scientist Lead Analyst en NTT Data Europe...   \n",
       "\n",
       "                                               About  \n",
       "0  Soy Julieta Carricondo Robino, bioingeniera. A...  "
      ]
     },
     "execution_count": 7,
     "metadata": {},
     "output_type": "execute_result"
    }
   ],
   "source": [
    "data = pd.DataFrame()\n",
    "data['Name'], data['Cargo'], data['About'] = [name_list, cargo_list, about_list]\n",
    "data"
   ]
  },
  {
   "cell_type": "code",
   "execution_count": null,
   "id": "84d2fb0c",
   "metadata": {},
   "outputs": [],
   "source": []
  }
 ],
 "metadata": {
  "hide_input": false,
  "kernelspec": {
   "display_name": "Python 3 (ipykernel)",
   "language": "python",
   "name": "python3"
  },
  "language_info": {
   "codemirror_mode": {
    "name": "ipython",
    "version": 3
   },
   "file_extension": ".py",
   "mimetype": "text/x-python",
   "name": "python",
   "nbconvert_exporter": "python",
   "pygments_lexer": "ipython3",
   "version": "3.9.12"
  }
 },
 "nbformat": 4,
 "nbformat_minor": 5
}
